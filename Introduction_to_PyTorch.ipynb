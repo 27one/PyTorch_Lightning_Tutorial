{
 "cells": [
  {
   "cell_type": "code",
   "execution_count": 1,
   "metadata": {},
   "outputs": [],
   "source": [
    "import time\n",
    "\n",
    "import matplotlib.pyplot as plt\n",
    "\n",
    "%matplotlib inline\n",
    "import matplotlib_inline.backend_inline\n",
    "import numpy as np\n",
    "import torch\n",
    "import torch.nn as nn\n",
    "import torch.utils.data as data\n",
    "from matplotlib.colors import to_rgba\n",
    "from torch import Tensor\n",
    "from tqdm.notebook import tqdm  # Progress bar\n",
    "\n",
    "matplotlib_inline.backend_inline.set_matplotlib_formats(\"svg\", \"pdf\")  # For export"
   ]
  },
  {
   "cell_type": "code",
   "execution_count": 3,
   "metadata": {},
   "outputs": [
    {
     "data": {
      "text/plain": [
       "tensor([0., 1., 2.], requires_grad=True)"
      ]
     },
     "execution_count": 3,
     "metadata": {},
     "output_type": "execute_result"
    }
   ],
   "source": [
    "x = torch.arange(3, dtype=torch.float32, requires_grad=True)\n",
    "x"
   ]
  },
  {
   "cell_type": "code",
   "execution_count": 4,
   "metadata": {},
   "outputs": [
    {
     "name": "stdout",
     "output_type": "stream",
     "text": [
      "y tensor(12.6667, grad_fn=<MeanBackward0>)\n"
     ]
    }
   ],
   "source": [
    "a = x+2\n",
    "b = a**2\n",
    "c = b+3\n",
    "y = c.mean()\n",
    "print(\"y\", y)"
   ]
  },
  {
   "cell_type": "code",
   "execution_count": 5,
   "metadata": {},
   "outputs": [],
   "source": [
    "y.backward()"
   ]
  },
  {
   "cell_type": "code",
   "execution_count": 6,
   "metadata": {},
   "outputs": [
    {
     "name": "stdout",
     "output_type": "stream",
     "text": [
      "tensor([1.3333, 2.0000, 2.6667])\n"
     ]
    }
   ],
   "source": [
    "print(x.grad)"
   ]
  },
  {
   "cell_type": "code",
   "execution_count": 9,
   "metadata": {},
   "outputs": [
    {
     "data": {
      "text/plain": [
       "False"
      ]
     },
     "execution_count": 9,
     "metadata": {},
     "output_type": "execute_result"
    }
   ],
   "source": [
    "gpu_avail = torch.cuda.is_available()\n",
    "gpu_avail"
   ]
  },
  {
   "attachments": {},
   "cell_type": "markdown",
   "metadata": {},
   "source": [
    "Contious XOR"
   ]
  },
  {
   "cell_type": "code",
   "execution_count": 10,
   "metadata": {},
   "outputs": [],
   "source": [
    "class MyModule(nn.Module):\n",
    "    def __init__(self):\n",
    "        super().__init__()\n",
    "\n",
    "    def forward(self, x):\n",
    "        pass"
   ]
  },
  {
   "cell_type": "code",
   "execution_count": 52,
   "metadata": {},
   "outputs": [],
   "source": [
    "class SimpleClassifier(nn.Module):\n",
    "    def __init__(self, num_inputs, num_hidden, num_outputs):\n",
    "        super().__init__()\n",
    "        self.linear1 = nn.Linear(num_inputs, num_hidden)\n",
    "        self.act_fn = nn.Tanh()\n",
    "        self.linear2 = nn.Linear(num_hidden, num_outputs)\n",
    "    \n",
    "    def forward(self, x):\n",
    "        x = self.linear1(x)\n",
    "        x = self.act_fn(x)\n",
    "        x = self.linear2(x)\n",
    "        return x"
   ]
  },
  {
   "cell_type": "code",
   "execution_count": 53,
   "metadata": {},
   "outputs": [
    {
     "name": "stdout",
     "output_type": "stream",
     "text": [
      "SimpleClassifier(\n",
      "  (linear1): Linear(in_features=2, out_features=4, bias=True)\n",
      "  (act_fn): Tanh()\n",
      "  (linear2): Linear(in_features=4, out_features=1, bias=True)\n",
      ")\n"
     ]
    }
   ],
   "source": [
    "model = SimpleClassifier(num_inputs=2, num_hidden=4, num_outputs=1)\n",
    "\n",
    "print(model)"
   ]
  },
  {
   "cell_type": "code",
   "execution_count": 54,
   "metadata": {},
   "outputs": [
    {
     "name": "stdout",
     "output_type": "stream",
     "text": [
      "Parameter linear1.weight, shape torch.Size([4, 2])\n",
      "Parameter linear1.bias, shape torch.Size([4])\n",
      "Parameter linear2.weight, shape torch.Size([1, 4])\n",
      "Parameter linear2.bias, shape torch.Size([1])\n"
     ]
    }
   ],
   "source": [
    "for name, param in model.named_parameters():\n",
    "    print(f\"Parameter {name}, shape {param.shape}\")"
   ]
  },
  {
   "cell_type": "code",
   "execution_count": 55,
   "metadata": {},
   "outputs": [],
   "source": [
    "class XORDataset(data.Dataset):\n",
    "    def __init__(self, size, std=0.1):\n",
    "        super().__init__()\n",
    "        self.size = size\n",
    "        self.std = std\n",
    "        self.generate_continous_xor()\n",
    "        \n",
    "    def generate_continous_xor(self):\n",
    "        data = torch.randint(low=0, high=2, size=(self.size, 2), dtype=torch.float32)\n",
    "        label = (data.sum(dim=1) == 1).to(torch.long)\n",
    "        data += self.std * torch.randn(data.shape)\n",
    "        \n",
    "        self.data = data\n",
    "        self.label = label\n",
    "\n",
    "    def __len__(self):\n",
    "        return self.size\n",
    "    \n",
    "    def __getitem__(self, idx):\n",
    "        data_point = self.data[idx]\n",
    "        data_label = self.label[idx]\n",
    "        return data_point, data_label"
   ]
  },
  {
   "cell_type": "code",
   "execution_count": 56,
   "metadata": {},
   "outputs": [
    {
     "name": "stdout",
     "output_type": "stream",
     "text": [
      "Size of dataset :  200\n",
      "Data point 2 :  (tensor([0.0126, 0.0896]), tensor(0))\n"
     ]
    }
   ],
   "source": [
    "dataset = XORDataset(size=200)\n",
    "print(\"Size of dataset : \", len(dataset))\n",
    "print(\"Data point 2 : \", dataset[2])"
   ]
  },
  {
   "cell_type": "code",
   "execution_count": 57,
   "metadata": {},
   "outputs": [],
   "source": [
    "def visualize_samples(data, label):\n",
    "    if isinstance(data, Tensor):\n",
    "        data = data.cpu().numpy()\n",
    "    if isinstance(label, Tensor):\n",
    "        label = label.cpu().numpy()\n",
    "    data_0 = data[label == 0]\n",
    "    data_1 = data[label == 1]\n",
    "\n",
    "    plt.figure(figsize=(4, 4))\n",
    "    plt.scatter(data_0[:, 0], data_0[:, 1], edgecolor=\"#333\", label=\"Class 0\")\n",
    "    plt.scatter(data_1[:, 0], data_1[:, 1], edgecolor=\"#333\", label=\"Class 1\")\n",
    "    plt.title(\"Dataset samples\")\n",
    "    plt.ylabel(r\"$x_2$\")\n",
    "    plt.xlabel(r\"$x_1$\")\n",
    "    plt.legend()"
   ]
  },
  {
   "cell_type": "code",
   "execution_count": 58,
   "metadata": {},
   "outputs": [
    {
     "data": {
      "application/pdf": "[encoded data removed]",
      "image/svg+xml": "<?xml version=\"1.0\" encoding=\"utf-8\" standalone=\"no\"?>\n<!DOCTYPE svg PUBLIC \"-//W3C//DTD SVG 1.1//EN\"\n  \"http://www.w3.org/Graphics/SVG/1.1/DTD/svg11.dtd\">\n<svg xmlns:xlink=\"http://www.w3.org/1999/xlink\" width=\"288.923437pt\" height=\"281.634375pt\" viewBox=\"0 0 288.923437 281.634375\" xmlns=\"http://www.w3.org/2000/svg\" version=\"1.1\">\n <metadata>\n  <rdf:RDF xmlns:dc=\"http://purl.org/dc/elements/1.1/\" xmlns:cc=\"http://creativecommons.org/ns#\" xmlns:rdf=\"http://www.w3.org/1999/02/22-rdf-syntax-ns#\">\n   <cc:Work>\n    <dc:type rdf:resource=\"http://purl.org/dc/dcmitype/StillImage\"/>\n    <dc:date>2023-05-22T14:37:50.021523</dc:date>\n    <dc:format>image/svg+xml</dc:format>\n    <dc:creator>\n     <cc:Agent>\n      <dc:title>Matplotlib v3.7.1, https://matplotlib.org/</dc:title>\n     </cc:Agent>\n    </dc:creator>\n   </cc:Work>\n  </rdf:RDF>\n </metadata>\n <defs>\n  <style type=\"text/css\">*{stroke-linejoin: round; stroke-linecap: butt}</style>\n </defs>\n <g id=\"figure_1\">\n  <g id=\"patch_1\">\n   <path d=\"M 0 281.634375 \nL 288.923437 281.634375 \nL 288.923437 0 \nL 0 0 \nz\n\" style=\"fill: #ffffff\"/>\n  </g>\n  <g id=\"axes_1\">\n   <g id=\"patch_2\">\n    <path d=\"M 58.523438 244.078125 \nL 281.723437 244.078125 \nL 281.723437 22.318125 \nL 58.523438 22.318125 \nz\n\" style=\"fill: #ffffff\"/>\n   </g>\n   <g id=\"PathCollection_1\">\n    <defs>\n     <path id=\"m0c06e1fba5\" d=\"M 0 3 \nC 0.795609 3 1.55874 2.683901 2.12132 2.12132 \nC 2.683901 1.55874 3 0.795609 3 0 \nC 3 -0.795609 2.683901 -1.55874 2.12132 -2.12132 \nC 1.55874 -2.683901 0.795609 -3 0 -3 \nC -0.795609 -3 -1.55874 -2.683901 -2.12132 -2.12132 \nC -2.683901 -1.55874 -3 -0.795609 -3 0 \nC -3 0.795609 -2.683901 1.55874 -2.12132 2.12132 \nC -1.55874 2.683901 -0.795609 3 0 3 \nz\n\" style=\"stroke: #333333\"/>\n    </defs>\n    <g clip-path=\"url(#p6dc6c54607)\">\n     <use xlink:href=\"#m0c06e1fba5\" x=\"105.503905\" y=\"183.979751\" style=\"fill: #1f77b4; stroke: #333333\"/>\n     <use xlink:href=\"#m0c06e1fba5\" x=\"240.260012\" y=\"66.653373\" style=\"fill: #1f77b4; stroke: #333333\"/>\n     <use xlink:href=\"#m0c06e1fba5\" x=\"223.321278\" y=\"92.846436\" style=\"fill: #1f77b4; stroke: #333333\"/>\n     <use xlink:href=\"#m0c06e1fba5\" x=\"217.479731\" y=\"67.958979\" style=\"fill: #1f77b4; stroke: #333333\"/>\n     <use xlink:href=\"#m0c06e1fba5\" x=\"225.597857\" y=\"75.484999\" style=\"fill: #1f77b4; stroke: #333333\"/>\n     <use xlink:href=\"#m0c06e1fba5\" x=\"222.418011\" y=\"70.352036\" style=\"fill: #1f77b4; stroke: #333333\"/>\n     <use xlink:href=\"#m0c06e1fba5\" x=\"114.688264\" y=\"192.680381\" style=\"fill: #1f77b4; stroke: #333333\"/>\n     <use xlink:href=\"#m0c06e1fba5\" x=\"219.159412\" y=\"97.667698\" style=\"fill: #1f77b4; stroke: #333333\"/>\n     <use xlink:href=\"#m0c06e1fba5\" x=\"97.362084\" y=\"184.059231\" style=\"fill: #1f77b4; stroke: #333333\"/>\n     <use xlink:href=\"#m0c06e1fba5\" x=\"235.29408\" y=\"70.953341\" style=\"fill: #1f77b4; stroke: #333333\"/>\n     <use xlink:href=\"#m0c06e1fba5\" x=\"271.577983\" y=\"70.235755\" style=\"fill: #1f77b4; stroke: #333333\"/>\n     <use xlink:href=\"#m0c06e1fba5\" x=\"234.041665\" y=\"53.961042\" style=\"fill: #1f77b4; stroke: #333333\"/>\n     <use xlink:href=\"#m0c06e1fba5\" x=\"220.677049\" y=\"79.727016\" style=\"fill: #1f77b4; stroke: #333333\"/>\n     <use xlink:href=\"#m0c06e1fba5\" x=\"238.519065\" y=\"41.785513\" style=\"fill: #1f77b4; stroke: #333333\"/>\n     <use xlink:href=\"#m0c06e1fba5\" x=\"114.691567\" y=\"199.849628\" style=\"fill: #1f77b4; stroke: #333333\"/>\n     <use xlink:href=\"#m0c06e1fba5\" x=\"110.048172\" y=\"173.760556\" style=\"fill: #1f77b4; stroke: #333333\"/>\n     <use xlink:href=\"#m0c06e1fba5\" x=\"91.545405\" y=\"173.788122\" style=\"fill: #1f77b4; stroke: #333333\"/>\n     <use xlink:href=\"#m0c06e1fba5\" x=\"241.7046\" y=\"65.744582\" style=\"fill: #1f77b4; stroke: #333333\"/>\n     <use xlink:href=\"#m0c06e1fba5\" x=\"111.176743\" y=\"188.750999\" style=\"fill: #1f77b4; stroke: #333333\"/>\n     <use xlink:href=\"#m0c06e1fba5\" x=\"239.300086\" y=\"66.349551\" style=\"fill: #1f77b4; stroke: #333333\"/>\n     <use xlink:href=\"#m0c06e1fba5\" x=\"87.423095\" y=\"187.522697\" style=\"fill: #1f77b4; stroke: #333333\"/>\n     <use xlink:href=\"#m0c06e1fba5\" x=\"116.539026\" y=\"178.599771\" style=\"fill: #1f77b4; stroke: #333333\"/>\n     <use xlink:href=\"#m0c06e1fba5\" x=\"226.551357\" y=\"64.537144\" style=\"fill: #1f77b4; stroke: #333333\"/>\n     <use xlink:href=\"#m0c06e1fba5\" x=\"234.130646\" y=\"76.662186\" style=\"fill: #1f77b4; stroke: #333333\"/>\n     <use xlink:href=\"#m0c06e1fba5\" x=\"235.325773\" y=\"68.421457\" style=\"fill: #1f77b4; stroke: #333333\"/>\n     <use xlink:href=\"#m0c06e1fba5\" x=\"99.583824\" y=\"192.367748\" style=\"fill: #1f77b4; stroke: #333333\"/>\n     <use xlink:href=\"#m0c06e1fba5\" x=\"76.848336\" y=\"198.93862\" style=\"fill: #1f77b4; stroke: #333333\"/>\n     <use xlink:href=\"#m0c06e1fba5\" x=\"224.649411\" y=\"81.864382\" style=\"fill: #1f77b4; stroke: #333333\"/>\n     <use xlink:href=\"#m0c06e1fba5\" x=\"234.206388\" y=\"73.957698\" style=\"fill: #1f77b4; stroke: #333333\"/>\n     <use xlink:href=\"#m0c06e1fba5\" x=\"107.657833\" y=\"183.295746\" style=\"fill: #1f77b4; stroke: #333333\"/>\n     <use xlink:href=\"#m0c06e1fba5\" x=\"228.181106\" y=\"78.220844\" style=\"fill: #1f77b4; stroke: #333333\"/>\n     <use xlink:href=\"#m0c06e1fba5\" x=\"231.284047\" y=\"89.630392\" style=\"fill: #1f77b4; stroke: #333333\"/>\n     <use xlink:href=\"#m0c06e1fba5\" x=\"238.065648\" y=\"70.288131\" style=\"fill: #1f77b4; stroke: #333333\"/>\n     <use xlink:href=\"#m0c06e1fba5\" x=\"95.689148\" y=\"210.594639\" style=\"fill: #1f77b4; stroke: #333333\"/>\n     <use xlink:href=\"#m0c06e1fba5\" x=\"251.44296\" y=\"77.545807\" style=\"fill: #1f77b4; stroke: #333333\"/>\n     <use xlink:href=\"#m0c06e1fba5\" x=\"79.785014\" y=\"190.93062\" style=\"fill: #1f77b4; stroke: #333333\"/>\n     <use xlink:href=\"#m0c06e1fba5\" x=\"239.664864\" y=\"69.316235\" style=\"fill: #1f77b4; stroke: #333333\"/>\n     <use xlink:href=\"#m0c06e1fba5\" x=\"103.086309\" y=\"208.68656\" style=\"fill: #1f77b4; stroke: #333333\"/>\n     <use xlink:href=\"#m0c06e1fba5\" x=\"126.44356\" y=\"186.722726\" style=\"fill: #1f77b4; stroke: #333333\"/>\n     <use xlink:href=\"#m0c06e1fba5\" x=\"68.668892\" y=\"174.240003\" style=\"fill: #1f77b4; stroke: #333333\"/>\n     <use xlink:href=\"#m0c06e1fba5\" x=\"246.326456\" y=\"72.607311\" style=\"fill: #1f77b4; stroke: #333333\"/>\n     <use xlink:href=\"#m0c06e1fba5\" x=\"231.641308\" y=\"76.965899\" style=\"fill: #1f77b4; stroke: #333333\"/>\n     <use xlink:href=\"#m0c06e1fba5\" x=\"216.891148\" y=\"57.390204\" style=\"fill: #1f77b4; stroke: #333333\"/>\n     <use xlink:href=\"#m0c06e1fba5\" x=\"236.737491\" y=\"79.361979\" style=\"fill: #1f77b4; stroke: #333333\"/>\n     <use xlink:href=\"#m0c06e1fba5\" x=\"105.516889\" y=\"193.29761\" style=\"fill: #1f77b4; stroke: #333333\"/>\n     <use xlink:href=\"#m0c06e1fba5\" x=\"110.51968\" y=\"206.845192\" style=\"fill: #1f77b4; stroke: #333333\"/>\n     <use xlink:href=\"#m0c06e1fba5\" x=\"114.384842\" y=\"190.552404\" style=\"fill: #1f77b4; stroke: #333333\"/>\n     <use xlink:href=\"#m0c06e1fba5\" x=\"232.011203\" y=\"86.34234\" style=\"fill: #1f77b4; stroke: #333333\"/>\n     <use xlink:href=\"#m0c06e1fba5\" x=\"111.211147\" y=\"193.700104\" style=\"fill: #1f77b4; stroke: #333333\"/>\n     <use xlink:href=\"#m0c06e1fba5\" x=\"243.407599\" y=\"65.656503\" style=\"fill: #1f77b4; stroke: #333333\"/>\n     <use xlink:href=\"#m0c06e1fba5\" x=\"110.529987\" y=\"181.495512\" style=\"fill: #1f77b4; stroke: #333333\"/>\n     <use xlink:href=\"#m0c06e1fba5\" x=\"234.307105\" y=\"71.246101\" style=\"fill: #1f77b4; stroke: #333333\"/>\n     <use xlink:href=\"#m0c06e1fba5\" x=\"234.656167\" y=\"32.398125\" style=\"fill: #1f77b4; stroke: #333333\"/>\n     <use xlink:href=\"#m0c06e1fba5\" x=\"102.749794\" y=\"194.961355\" style=\"fill: #1f77b4; stroke: #333333\"/>\n     <use xlink:href=\"#m0c06e1fba5\" x=\"228.410756\" y=\"64.697167\" style=\"fill: #1f77b4; stroke: #333333\"/>\n     <use xlink:href=\"#m0c06e1fba5\" x=\"118.685425\" y=\"172.915019\" style=\"fill: #1f77b4; stroke: #333333\"/>\n     <use xlink:href=\"#m0c06e1fba5\" x=\"84.830784\" y=\"204.245561\" style=\"fill: #1f77b4; stroke: #333333\"/>\n     <use xlink:href=\"#m0c06e1fba5\" x=\"217.151934\" y=\"88.619196\" style=\"fill: #1f77b4; stroke: #333333\"/>\n     <use xlink:href=\"#m0c06e1fba5\" x=\"226.505327\" y=\"86.581379\" style=\"fill: #1f77b4; stroke: #333333\"/>\n     <use xlink:href=\"#m0c06e1fba5\" x=\"104.542869\" y=\"193.587694\" style=\"fill: #1f77b4; stroke: #333333\"/>\n     <use xlink:href=\"#m0c06e1fba5\" x=\"114.399138\" y=\"200.924851\" style=\"fill: #1f77b4; stroke: #333333\"/>\n     <use xlink:href=\"#m0c06e1fba5\" x=\"111.130335\" y=\"203.690453\" style=\"fill: #1f77b4; stroke: #333333\"/>\n     <use xlink:href=\"#m0c06e1fba5\" x=\"223.707414\" y=\"83.239787\" style=\"fill: #1f77b4; stroke: #333333\"/>\n     <use xlink:href=\"#m0c06e1fba5\" x=\"87.387434\" y=\"197.44821\" style=\"fill: #1f77b4; stroke: #333333\"/>\n     <use xlink:href=\"#m0c06e1fba5\" x=\"108.069189\" y=\"198.426062\" style=\"fill: #1f77b4; stroke: #333333\"/>\n     <use xlink:href=\"#m0c06e1fba5\" x=\"91.676361\" y=\"183.43541\" style=\"fill: #1f77b4; stroke: #333333\"/>\n     <use xlink:href=\"#m0c06e1fba5\" x=\"220.180186\" y=\"64.932374\" style=\"fill: #1f77b4; stroke: #333333\"/>\n     <use xlink:href=\"#m0c06e1fba5\" x=\"117.661166\" y=\"203.769118\" style=\"fill: #1f77b4; stroke: #333333\"/>\n     <use xlink:href=\"#m0c06e1fba5\" x=\"232.899048\" y=\"58.422661\" style=\"fill: #1f77b4; stroke: #333333\"/>\n     <use xlink:href=\"#m0c06e1fba5\" x=\"110.753321\" y=\"203.514905\" style=\"fill: #1f77b4; stroke: #333333\"/>\n     <use xlink:href=\"#m0c06e1fba5\" x=\"243.200468\" y=\"87.558108\" style=\"fill: #1f77b4; stroke: #333333\"/>\n     <use xlink:href=\"#m0c06e1fba5\" x=\"239.685874\" y=\"63.81412\" style=\"fill: #1f77b4; stroke: #333333\"/>\n     <use xlink:href=\"#m0c06e1fba5\" x=\"243.991692\" y=\"68.058703\" style=\"fill: #1f77b4; stroke: #333333\"/>\n     <use xlink:href=\"#m0c06e1fba5\" x=\"115.331107\" y=\"195.179899\" style=\"fill: #1f77b4; stroke: #333333\"/>\n     <use xlink:href=\"#m0c06e1fba5\" x=\"112.8661\" y=\"186.948799\" style=\"fill: #1f77b4; stroke: #333333\"/>\n     <use xlink:href=\"#m0c06e1fba5\" x=\"246.494059\" y=\"44.65131\" style=\"fill: #1f77b4; stroke: #333333\"/>\n     <use xlink:href=\"#m0c06e1fba5\" x=\"228.768435\" y=\"63.511054\" style=\"fill: #1f77b4; stroke: #333333\"/>\n     <use xlink:href=\"#m0c06e1fba5\" x=\"105.856192\" y=\"205.388515\" style=\"fill: #1f77b4; stroke: #333333\"/>\n     <use xlink:href=\"#m0c06e1fba5\" x=\"92.86973\" y=\"213.232819\" style=\"fill: #1f77b4; stroke: #333333\"/>\n     <use xlink:href=\"#m0c06e1fba5\" x=\"221.121417\" y=\"79.773134\" style=\"fill: #1f77b4; stroke: #333333\"/>\n     <use xlink:href=\"#m0c06e1fba5\" x=\"106.280298\" y=\"214.31299\" style=\"fill: #1f77b4; stroke: #333333\"/>\n     <use xlink:href=\"#m0c06e1fba5\" x=\"240.201998\" y=\"79.795565\" style=\"fill: #1f77b4; stroke: #333333\"/>\n     <use xlink:href=\"#m0c06e1fba5\" x=\"82.791957\" y=\"219.220461\" style=\"fill: #1f77b4; stroke: #333333\"/>\n     <use xlink:href=\"#m0c06e1fba5\" x=\"110.829747\" y=\"177.902077\" style=\"fill: #1f77b4; stroke: #333333\"/>\n     <use xlink:href=\"#m0c06e1fba5\" x=\"108.820711\" y=\"187.318713\" style=\"fill: #1f77b4; stroke: #333333\"/>\n     <use xlink:href=\"#m0c06e1fba5\" x=\"94.95104\" y=\"202.018395\" style=\"fill: #1f77b4; stroke: #333333\"/>\n     <use xlink:href=\"#m0c06e1fba5\" x=\"96.22611\" y=\"183.876013\" style=\"fill: #1f77b4; stroke: #333333\"/>\n     <use xlink:href=\"#m0c06e1fba5\" x=\"105.069737\" y=\"199.826015\" style=\"fill: #1f77b4; stroke: #333333\"/>\n     <use xlink:href=\"#m0c06e1fba5\" x=\"245.77836\" y=\"69.65198\" style=\"fill: #1f77b4; stroke: #333333\"/>\n     <use xlink:href=\"#m0c06e1fba5\" x=\"114.913499\" y=\"200.319786\" style=\"fill: #1f77b4; stroke: #333333\"/>\n     <use xlink:href=\"#m0c06e1fba5\" x=\"91.216752\" y=\"201.287714\" style=\"fill: #1f77b4; stroke: #333333\"/>\n     <use xlink:href=\"#m0c06e1fba5\" x=\"98.748587\" y=\"181.883096\" style=\"fill: #1f77b4; stroke: #333333\"/>\n     <use xlink:href=\"#m0c06e1fba5\" x=\"244.080471\" y=\"61.50971\" style=\"fill: #1f77b4; stroke: #333333\"/>\n     <use xlink:href=\"#m0c06e1fba5\" x=\"97.319719\" y=\"209.348528\" style=\"fill: #1f77b4; stroke: #333333\"/>\n     <use xlink:href=\"#m0c06e1fba5\" x=\"237.147556\" y=\"69.2026\" style=\"fill: #1f77b4; stroke: #333333\"/>\n     <use xlink:href=\"#m0c06e1fba5\" x=\"98.324604\" y=\"191.969556\" style=\"fill: #1f77b4; stroke: #333333\"/>\n     <use xlink:href=\"#m0c06e1fba5\" x=\"231.082661\" y=\"91.176527\" style=\"fill: #1f77b4; stroke: #333333\"/>\n     <use xlink:href=\"#m0c06e1fba5\" x=\"82.298017\" y=\"164.934249\" style=\"fill: #1f77b4; stroke: #333333\"/>\n     <use xlink:href=\"#m0c06e1fba5\" x=\"106.958155\" y=\"214.499881\" style=\"fill: #1f77b4; stroke: #333333\"/>\n     <use xlink:href=\"#m0c06e1fba5\" x=\"215.508174\" y=\"66.843923\" style=\"fill: #1f77b4; stroke: #333333\"/>\n     <use xlink:href=\"#m0c06e1fba5\" x=\"126.009062\" y=\"183.888816\" style=\"fill: #1f77b4; stroke: #333333\"/>\n     <use xlink:href=\"#m0c06e1fba5\" x=\"112.317164\" y=\"177.980359\" style=\"fill: #1f77b4; stroke: #333333\"/>\n     <use xlink:href=\"#m0c06e1fba5\" x=\"231.075477\" y=\"85.353414\" style=\"fill: #1f77b4; stroke: #333333\"/>\n    </g>\n   </g>\n   <g id=\"PathCollection_2\">\n    <defs>\n     <path id=\"m52d6617c87\" d=\"M 0 3 \nC 0.795609 3 1.55874 2.683901 2.12132 2.12132 \nC 2.683901 1.55874 3 0.795609 3 0 \nC 3 -0.795609 2.683901 -1.55874 2.12132 -2.12132 \nC 1.55874 -2.683901 0.795609 -3 0 -3 \nC -0.795609 -3 -1.55874 -2.683901 -2.12132 -2.12132 \nC -2.683901 -1.55874 -3 -0.795609 -3 0 \nC -3 0.795609 -2.683901 1.55874 -2.12132 2.12132 \nC -1.55874 2.683901 -0.795609 3 0 3 \nz\n\" style=\"stroke: #333333\"/>\n    </defs>\n    <g clip-path=\"url(#p6dc6c54607)\">\n     <use xlink:href=\"#m52d6617c87\" x=\"222.658732\" y=\"184.42415\" style=\"fill: #ff7f0e; stroke: #333333\"/>\n     <use xlink:href=\"#m52d6617c87\" x=\"96.228076\" y=\"67.99897\" style=\"fill: #ff7f0e; stroke: #333333\"/>\n     <use xlink:href=\"#m52d6617c87\" x=\"232.572072\" y=\"205.048588\" style=\"fill: #ff7f0e; stroke: #333333\"/>\n     <use xlink:href=\"#m52d6617c87\" x=\"96.031327\" y=\"73.752814\" style=\"fill: #ff7f0e; stroke: #333333\"/>\n     <use xlink:href=\"#m52d6617c87\" x=\"242.51589\" y=\"207.450002\" style=\"fill: #ff7f0e; stroke: #333333\"/>\n     <use xlink:href=\"#m52d6617c87\" x=\"250.753552\" y=\"195.687014\" style=\"fill: #ff7f0e; stroke: #333333\"/>\n     <use xlink:href=\"#m52d6617c87\" x=\"100.36469\" y=\"81.356505\" style=\"fill: #ff7f0e; stroke: #333333\"/>\n     <use xlink:href=\"#m52d6617c87\" x=\"107.291695\" y=\"57.942171\" style=\"fill: #ff7f0e; stroke: #333333\"/>\n     <use xlink:href=\"#m52d6617c87\" x=\"87.574222\" y=\"71.521445\" style=\"fill: #ff7f0e; stroke: #333333\"/>\n     <use xlink:href=\"#m52d6617c87\" x=\"206.921233\" y=\"221.897236\" style=\"fill: #ff7f0e; stroke: #333333\"/>\n     <use xlink:href=\"#m52d6617c87\" x=\"252.640503\" y=\"211.568145\" style=\"fill: #ff7f0e; stroke: #333333\"/>\n     <use xlink:href=\"#m52d6617c87\" x=\"229.651047\" y=\"195.786007\" style=\"fill: #ff7f0e; stroke: #333333\"/>\n     <use xlink:href=\"#m52d6617c87\" x=\"236.094485\" y=\"196.14099\" style=\"fill: #ff7f0e; stroke: #333333\"/>\n     <use xlink:href=\"#m52d6617c87\" x=\"251.758518\" y=\"185.08891\" style=\"fill: #ff7f0e; stroke: #333333\"/>\n     <use xlink:href=\"#m52d6617c87\" x=\"112.136537\" y=\"57.678616\" style=\"fill: #ff7f0e; stroke: #333333\"/>\n     <use xlink:href=\"#m52d6617c87\" x=\"108.737385\" y=\"82.784301\" style=\"fill: #ff7f0e; stroke: #333333\"/>\n     <use xlink:href=\"#m52d6617c87\" x=\"233.071118\" y=\"178.946302\" style=\"fill: #ff7f0e; stroke: #333333\"/>\n     <use xlink:href=\"#m52d6617c87\" x=\"214.761215\" y=\"211.284582\" style=\"fill: #ff7f0e; stroke: #333333\"/>\n     <use xlink:href=\"#m52d6617c87\" x=\"83.840078\" y=\"90.73142\" style=\"fill: #ff7f0e; stroke: #333333\"/>\n     <use xlink:href=\"#m52d6617c87\" x=\"249.618313\" y=\"210.590867\" style=\"fill: #ff7f0e; stroke: #333333\"/>\n     <use xlink:href=\"#m52d6617c87\" x=\"255.652149\" y=\"190.288917\" style=\"fill: #ff7f0e; stroke: #333333\"/>\n     <use xlink:href=\"#m52d6617c87\" x=\"226.286297\" y=\"207.355307\" style=\"fill: #ff7f0e; stroke: #333333\"/>\n     <use xlink:href=\"#m52d6617c87\" x=\"234.779024\" y=\"178.958424\" style=\"fill: #ff7f0e; stroke: #333333\"/>\n     <use xlink:href=\"#m52d6617c87\" x=\"247.073012\" y=\"177.513616\" style=\"fill: #ff7f0e; stroke: #333333\"/>\n     <use xlink:href=\"#m52d6617c87\" x=\"243.368257\" y=\"213.200362\" style=\"fill: #ff7f0e; stroke: #333333\"/>\n     <use xlink:href=\"#m52d6617c87\" x=\"250.1554\" y=\"185.369105\" style=\"fill: #ff7f0e; stroke: #333333\"/>\n     <use xlink:href=\"#m52d6617c87\" x=\"235.721346\" y=\"204.094552\" style=\"fill: #ff7f0e; stroke: #333333\"/>\n     <use xlink:href=\"#m52d6617c87\" x=\"234.227972\" y=\"185.660531\" style=\"fill: #ff7f0e; stroke: #333333\"/>\n     <use xlink:href=\"#m52d6617c87\" x=\"243.523101\" y=\"177.528738\" style=\"fill: #ff7f0e; stroke: #333333\"/>\n     <use xlink:href=\"#m52d6617c87\" x=\"236.201224\" y=\"198.326599\" style=\"fill: #ff7f0e; stroke: #333333\"/>\n     <use xlink:href=\"#m52d6617c87\" x=\"232.561505\" y=\"193.17091\" style=\"fill: #ff7f0e; stroke: #333333\"/>\n     <use xlink:href=\"#m52d6617c87\" x=\"113.802457\" y=\"66.556296\" style=\"fill: #ff7f0e; stroke: #333333\"/>\n     <use xlink:href=\"#m52d6617c87\" x=\"212.650877\" y=\"203.930577\" style=\"fill: #ff7f0e; stroke: #333333\"/>\n     <use xlink:href=\"#m52d6617c87\" x=\"97.195735\" y=\"63.354564\" style=\"fill: #ff7f0e; stroke: #333333\"/>\n     <use xlink:href=\"#m52d6617c87\" x=\"107.825018\" y=\"45.289584\" style=\"fill: #ff7f0e; stroke: #333333\"/>\n     <use xlink:href=\"#m52d6617c87\" x=\"146.156214\" y=\"69.188412\" style=\"fill: #ff7f0e; stroke: #333333\"/>\n     <use xlink:href=\"#m52d6617c87\" x=\"232.12347\" y=\"206.885044\" style=\"fill: #ff7f0e; stroke: #333333\"/>\n     <use xlink:href=\"#m52d6617c87\" x=\"221.162772\" y=\"195.563304\" style=\"fill: #ff7f0e; stroke: #333333\"/>\n     <use xlink:href=\"#m52d6617c87\" x=\"218.508982\" y=\"208.295534\" style=\"fill: #ff7f0e; stroke: #333333\"/>\n     <use xlink:href=\"#m52d6617c87\" x=\"223.453951\" y=\"196.386123\" style=\"fill: #ff7f0e; stroke: #333333\"/>\n     <use xlink:href=\"#m52d6617c87\" x=\"220.984981\" y=\"198.359393\" style=\"fill: #ff7f0e; stroke: #333333\"/>\n     <use xlink:href=\"#m52d6617c87\" x=\"98.897906\" y=\"67.807446\" style=\"fill: #ff7f0e; stroke: #333333\"/>\n     <use xlink:href=\"#m52d6617c87\" x=\"251.052295\" y=\"194.04034\" style=\"fill: #ff7f0e; stroke: #333333\"/>\n     <use xlink:href=\"#m52d6617c87\" x=\"235.726084\" y=\"190.821425\" style=\"fill: #ff7f0e; stroke: #333333\"/>\n     <use xlink:href=\"#m52d6617c87\" x=\"117.161061\" y=\"70.323616\" style=\"fill: #ff7f0e; stroke: #333333\"/>\n     <use xlink:href=\"#m52d6617c87\" x=\"91.360608\" y=\"52.907157\" style=\"fill: #ff7f0e; stroke: #333333\"/>\n     <use xlink:href=\"#m52d6617c87\" x=\"113.300453\" y=\"58.447272\" style=\"fill: #ff7f0e; stroke: #333333\"/>\n     <use xlink:href=\"#m52d6617c87\" x=\"225.766528\" y=\"179.800869\" style=\"fill: #ff7f0e; stroke: #333333\"/>\n     <use xlink:href=\"#m52d6617c87\" x=\"216.767524\" y=\"192.221467\" style=\"fill: #ff7f0e; stroke: #333333\"/>\n     <use xlink:href=\"#m52d6617c87\" x=\"243.672961\" y=\"215.149366\" style=\"fill: #ff7f0e; stroke: #333333\"/>\n     <use xlink:href=\"#m52d6617c87\" x=\"113.217663\" y=\"66.883348\" style=\"fill: #ff7f0e; stroke: #333333\"/>\n     <use xlink:href=\"#m52d6617c87\" x=\"108.864085\" y=\"67.006912\" style=\"fill: #ff7f0e; stroke: #333333\"/>\n     <use xlink:href=\"#m52d6617c87\" x=\"99.549229\" y=\"83.998157\" style=\"fill: #ff7f0e; stroke: #333333\"/>\n     <use xlink:href=\"#m52d6617c87\" x=\"79.216279\" y=\"77.068123\" style=\"fill: #ff7f0e; stroke: #333333\"/>\n     <use xlink:href=\"#m52d6617c87\" x=\"104.67327\" y=\"56.589858\" style=\"fill: #ff7f0e; stroke: #333333\"/>\n     <use xlink:href=\"#m52d6617c87\" x=\"111.978756\" y=\"90.120193\" style=\"fill: #ff7f0e; stroke: #333333\"/>\n     <use xlink:href=\"#m52d6617c87\" x=\"121.995035\" y=\"79.59103\" style=\"fill: #ff7f0e; stroke: #333333\"/>\n     <use xlink:href=\"#m52d6617c87\" x=\"226.584808\" y=\"221.740568\" style=\"fill: #ff7f0e; stroke: #333333\"/>\n     <use xlink:href=\"#m52d6617c87\" x=\"240.420214\" y=\"185.765907\" style=\"fill: #ff7f0e; stroke: #333333\"/>\n     <use xlink:href=\"#m52d6617c87\" x=\"103.544391\" y=\"80.491957\" style=\"fill: #ff7f0e; stroke: #333333\"/>\n     <use xlink:href=\"#m52d6617c87\" x=\"217.795296\" y=\"216.933706\" style=\"fill: #ff7f0e; stroke: #333333\"/>\n     <use xlink:href=\"#m52d6617c87\" x=\"237.978773\" y=\"204.275976\" style=\"fill: #ff7f0e; stroke: #333333\"/>\n     <use xlink:href=\"#m52d6617c87\" x=\"92.667532\" y=\"72.805624\" style=\"fill: #ff7f0e; stroke: #333333\"/>\n     <use xlink:href=\"#m52d6617c87\" x=\"231.269401\" y=\"190.675077\" style=\"fill: #ff7f0e; stroke: #333333\"/>\n     <use xlink:href=\"#m52d6617c87\" x=\"246.955589\" y=\"193.758031\" style=\"fill: #ff7f0e; stroke: #333333\"/>\n     <use xlink:href=\"#m52d6617c87\" x=\"224.827891\" y=\"193.876906\" style=\"fill: #ff7f0e; stroke: #333333\"/>\n     <use xlink:href=\"#m52d6617c87\" x=\"230.399074\" y=\"209.397224\" style=\"fill: #ff7f0e; stroke: #333333\"/>\n     <use xlink:href=\"#m52d6617c87\" x=\"107.409451\" y=\"76.432299\" style=\"fill: #ff7f0e; stroke: #333333\"/>\n     <use xlink:href=\"#m52d6617c87\" x=\"227.500128\" y=\"203.803943\" style=\"fill: #ff7f0e; stroke: #333333\"/>\n     <use xlink:href=\"#m52d6617c87\" x=\"95.287978\" y=\"64.217419\" style=\"fill: #ff7f0e; stroke: #333333\"/>\n     <use xlink:href=\"#m52d6617c87\" x=\"240.912618\" y=\"175.097688\" style=\"fill: #ff7f0e; stroke: #333333\"/>\n     <use xlink:href=\"#m52d6617c87\" x=\"97.095959\" y=\"77.974152\" style=\"fill: #ff7f0e; stroke: #333333\"/>\n     <use xlink:href=\"#m52d6617c87\" x=\"244.383426\" y=\"198.13568\" style=\"fill: #ff7f0e; stroke: #333333\"/>\n     <use xlink:href=\"#m52d6617c87\" x=\"104.517604\" y=\"85.09316\" style=\"fill: #ff7f0e; stroke: #333333\"/>\n     <use xlink:href=\"#m52d6617c87\" x=\"111.319089\" y=\"71.760752\" style=\"fill: #ff7f0e; stroke: #333333\"/>\n     <use xlink:href=\"#m52d6617c87\" x=\"245.913093\" y=\"184.199614\" style=\"fill: #ff7f0e; stroke: #333333\"/>\n     <use xlink:href=\"#m52d6617c87\" x=\"222.513951\" y=\"192.207067\" style=\"fill: #ff7f0e; stroke: #333333\"/>\n     <use xlink:href=\"#m52d6617c87\" x=\"108.3953\" y=\"71.778923\" style=\"fill: #ff7f0e; stroke: #333333\"/>\n     <use xlink:href=\"#m52d6617c87\" x=\"102.005155\" y=\"88.29186\" style=\"fill: #ff7f0e; stroke: #333333\"/>\n     <use xlink:href=\"#m52d6617c87\" x=\"224.749423\" y=\"200.201846\" style=\"fill: #ff7f0e; stroke: #333333\"/>\n     <use xlink:href=\"#m52d6617c87\" x=\"226.426007\" y=\"208.561687\" style=\"fill: #ff7f0e; stroke: #333333\"/>\n     <use xlink:href=\"#m52d6617c87\" x=\"215.060523\" y=\"179.493821\" style=\"fill: #ff7f0e; stroke: #333333\"/>\n     <use xlink:href=\"#m52d6617c87\" x=\"237.441825\" y=\"233.998125\" style=\"fill: #ff7f0e; stroke: #333333\"/>\n     <use xlink:href=\"#m52d6617c87\" x=\"243.285996\" y=\"192.805023\" style=\"fill: #ff7f0e; stroke: #333333\"/>\n     <use xlink:href=\"#m52d6617c87\" x=\"221.552694\" y=\"195.702344\" style=\"fill: #ff7f0e; stroke: #333333\"/>\n     <use xlink:href=\"#m52d6617c87\" x=\"131.02641\" y=\"82.167964\" style=\"fill: #ff7f0e; stroke: #333333\"/>\n     <use xlink:href=\"#m52d6617c87\" x=\"198.363005\" y=\"199.358648\" style=\"fill: #ff7f0e; stroke: #333333\"/>\n     <use xlink:href=\"#m52d6617c87\" x=\"219.421677\" y=\"201.154479\" style=\"fill: #ff7f0e; stroke: #333333\"/>\n     <use xlink:href=\"#m52d6617c87\" x=\"111.61633\" y=\"60.492677\" style=\"fill: #ff7f0e; stroke: #333333\"/>\n     <use xlink:href=\"#m52d6617c87\" x=\"214.166106\" y=\"212.805322\" style=\"fill: #ff7f0e; stroke: #333333\"/>\n     <use xlink:href=\"#m52d6617c87\" x=\"248.221272\" y=\"198.953004\" style=\"fill: #ff7f0e; stroke: #333333\"/>\n     <use xlink:href=\"#m52d6617c87\" x=\"93.020081\" y=\"65.837764\" style=\"fill: #ff7f0e; stroke: #333333\"/>\n     <use xlink:href=\"#m52d6617c87\" x=\"246.212796\" y=\"189.382586\" style=\"fill: #ff7f0e; stroke: #333333\"/>\n     <use xlink:href=\"#m52d6617c87\" x=\"222.083503\" y=\"193.896373\" style=\"fill: #ff7f0e; stroke: #333333\"/>\n     <use xlink:href=\"#m52d6617c87\" x=\"228.93394\" y=\"205.452913\" style=\"fill: #ff7f0e; stroke: #333333\"/>\n     <use xlink:href=\"#m52d6617c87\" x=\"242.54376\" y=\"196.554505\" style=\"fill: #ff7f0e; stroke: #333333\"/>\n     <use xlink:href=\"#m52d6617c87\" x=\"94.831923\" y=\"69.430583\" style=\"fill: #ff7f0e; stroke: #333333\"/>\n    </g>\n   </g>\n   <g id=\"matplotlib.axis_1\">\n    <g id=\"xtick_1\">\n     <g id=\"line2d_1\">\n      <defs>\n       <path id=\"m9ccce3d90f\" d=\"M 0 0 \nL 0 3.5 \n\" style=\"stroke: #000000; stroke-width: 0.8\"/>\n      </defs>\n      <g>\n       <use xlink:href=\"#m9ccce3d90f\" x=\"71.401548\" y=\"244.078125\" style=\"stroke: #000000; stroke-width: 0.8\"/>\n      </g>\n     </g>\n     <g id=\"text_1\">\n      <!-- −0.25 -->\n      <g transform=\"translate(56.078891 258.676562) scale(0.1 -0.1)\">\n       <defs>\n        <path id=\"DejaVuSans-2212\" d=\"M 678 2272 \nL 4684 2272 \nL 4684 1741 \nL 678 1741 \nL 678 2272 \nz\n\" transform=\"scale(0.015625)\"/>\n        <path id=\"DejaVuSans-30\" d=\"M 2034 4250 \nQ 1547 4250 1301 3770 \nQ 1056 3291 1056 2328 \nQ 1056 1369 1301 889 \nQ 1547 409 2034 409 \nQ 2525 409 2770 889 \nQ 3016 1369 3016 2328 \nQ 3016 3291 2770 3770 \nQ 2525 4250 2034 4250 \nz\nM 2034 4750 \nQ 2819 4750 3233 4129 \nQ 3647 3509 3647 2328 \nQ 3647 1150 3233 529 \nQ 2819 -91 2034 -91 \nQ 1250 -91 836 529 \nQ 422 1150 422 2328 \nQ 422 3509 836 4129 \nQ 1250 4750 2034 4750 \nz\n\" transform=\"scale(0.015625)\"/>\n        <path id=\"DejaVuSans-2e\" d=\"M 684 794 \nL 1344 794 \nL 1344 0 \nL 684 0 \nL 684 794 \nz\n\" transform=\"scale(0.015625)\"/>\n        <path id=\"DejaVuSans-32\" d=\"M 1228 531 \nL 3431 531 \nL 3431 0 \nL 469 0 \nL 469 531 \nQ 828 903 1448 1529 \nQ 2069 2156 2228 2338 \nQ 2531 2678 2651 2914 \nQ 2772 3150 2772 3378 \nQ 2772 3750 2511 3984 \nQ 2250 4219 1831 4219 \nQ 1534 4219 1204 4116 \nQ 875 4013 500 3803 \nL 500 4441 \nQ 881 4594 1212 4672 \nQ 1544 4750 1819 4750 \nQ 2544 4750 2975 4387 \nQ 3406 4025 3406 3419 \nQ 3406 3131 3298 2873 \nQ 3191 2616 2906 2266 \nQ 2828 2175 2409 1742 \nQ 1991 1309 1228 531 \nz\n\" transform=\"scale(0.015625)\"/>\n        <path id=\"DejaVuSans-35\" d=\"M 691 4666 \nL 3169 4666 \nL 3169 4134 \nL 1269 4134 \nL 1269 2991 \nQ 1406 3038 1543 3061 \nQ 1681 3084 1819 3084 \nQ 2600 3084 3056 2656 \nQ 3513 2228 3513 1497 \nQ 3513 744 3044 326 \nQ 2575 -91 1722 -91 \nQ 1428 -91 1123 -41 \nQ 819 9 494 109 \nL 494 744 \nQ 775 591 1075 516 \nQ 1375 441 1709 441 \nQ 2250 441 2565 725 \nQ 2881 1009 2881 1497 \nQ 2881 1984 2565 2268 \nQ 2250 2553 1709 2553 \nQ 1456 2553 1204 2497 \nQ 953 2441 691 2322 \nL 691 4666 \nz\n\" transform=\"scale(0.015625)\"/>\n       </defs>\n       <use xlink:href=\"#DejaVuSans-2212\"/>\n       <use xlink:href=\"#DejaVuSans-30\" x=\"83.789062\"/>\n       <use xlink:href=\"#DejaVuSans-2e\" x=\"147.412109\"/>\n       <use xlink:href=\"#DejaVuSans-32\" x=\"179.199219\"/>\n       <use xlink:href=\"#DejaVuSans-35\" x=\"242.822266\"/>\n      </g>\n     </g>\n    </g>\n    <g id=\"xtick_2\">\n     <g id=\"line2d_2\">\n      <g>\n       <use xlink:href=\"#m9ccce3d90f\" x=\"103.871603\" y=\"244.078125\" style=\"stroke: #000000; stroke-width: 0.8\"/>\n      </g>\n     </g>\n     <g id=\"text_2\">\n      <!-- 0.00 -->\n      <g transform=\"translate(92.738791 258.676562) scale(0.1 -0.1)\">\n       <use xlink:href=\"#DejaVuSans-30\"/>\n       <use xlink:href=\"#DejaVuSans-2e\" x=\"63.623047\"/>\n       <use xlink:href=\"#DejaVuSans-30\" x=\"95.410156\"/>\n       <use xlink:href=\"#DejaVuSans-30\" x=\"159.033203\"/>\n      </g>\n     </g>\n    </g>\n    <g id=\"xtick_3\">\n     <g id=\"line2d_3\">\n      <g>\n       <use xlink:href=\"#m9ccce3d90f\" x=\"136.341659\" y=\"244.078125\" style=\"stroke: #000000; stroke-width: 0.8\"/>\n      </g>\n     </g>\n     <g id=\"text_3\">\n      <!-- 0.25 -->\n      <g transform=\"translate(125.208846 258.676562) scale(0.1 -0.1)\">\n       <use xlink:href=\"#DejaVuSans-30\"/>\n       <use xlink:href=\"#DejaVuSans-2e\" x=\"63.623047\"/>\n       <use xlink:href=\"#DejaVuSans-32\" x=\"95.410156\"/>\n       <use xlink:href=\"#DejaVuSans-35\" x=\"159.033203\"/>\n      </g>\n     </g>\n    </g>\n    <g id=\"xtick_4\">\n     <g id=\"line2d_4\">\n      <g>\n       <use xlink:href=\"#m9ccce3d90f\" x=\"168.811714\" y=\"244.078125\" style=\"stroke: #000000; stroke-width: 0.8\"/>\n      </g>\n     </g>\n     <g id=\"text_4\">\n      <!-- 0.50 -->\n      <g transform=\"translate(157.678902 258.676562) scale(0.1 -0.1)\">\n       <use xlink:href=\"#DejaVuSans-30\"/>\n       <use xlink:href=\"#DejaVuSans-2e\" x=\"63.623047\"/>\n       <use xlink:href=\"#DejaVuSans-35\" x=\"95.410156\"/>\n       <use xlink:href=\"#DejaVuSans-30\" x=\"159.033203\"/>\n      </g>\n     </g>\n    </g>\n    <g id=\"xtick_5\">\n     <g id=\"line2d_5\">\n      <g>\n       <use xlink:href=\"#m9ccce3d90f\" x=\"201.28177\" y=\"244.078125\" style=\"stroke: #000000; stroke-width: 0.8\"/>\n      </g>\n     </g>\n     <g id=\"text_5\">\n      <!-- 0.75 -->\n      <g transform=\"translate(190.148957 258.676562) scale(0.1 -0.1)\">\n       <defs>\n        <path id=\"DejaVuSans-37\" d=\"M 525 4666 \nL 3525 4666 \nL 3525 4397 \nL 1831 0 \nL 1172 0 \nL 2766 4134 \nL 525 4134 \nL 525 4666 \nz\n\" transform=\"scale(0.015625)\"/>\n       </defs>\n       <use xlink:href=\"#DejaVuSans-30\"/>\n       <use xlink:href=\"#DejaVuSans-2e\" x=\"63.623047\"/>\n       <use xlink:href=\"#DejaVuSans-37\" x=\"95.410156\"/>\n       <use xlink:href=\"#DejaVuSans-35\" x=\"159.033203\"/>\n      </g>\n     </g>\n    </g>\n    <g id=\"xtick_6\">\n     <g id=\"line2d_6\">\n      <g>\n       <use xlink:href=\"#m9ccce3d90f\" x=\"233.751825\" y=\"244.078125\" style=\"stroke: #000000; stroke-width: 0.8\"/>\n      </g>\n     </g>\n     <g id=\"text_6\">\n      <!-- 1.00 -->\n      <g transform=\"translate(222.619012 258.676562) scale(0.1 -0.1)\">\n       <defs>\n        <path id=\"DejaVuSans-31\" d=\"M 794 531 \nL 1825 531 \nL 1825 4091 \nL 703 3866 \nL 703 4441 \nL 1819 4666 \nL 2450 4666 \nL 2450 531 \nL 3481 531 \nL 3481 0 \nL 794 0 \nL 794 531 \nz\n\" transform=\"scale(0.015625)\"/>\n       </defs>\n       <use xlink:href=\"#DejaVuSans-31\"/>\n       <use xlink:href=\"#DejaVuSans-2e\" x=\"63.623047\"/>\n       <use xlink:href=\"#DejaVuSans-30\" x=\"95.410156\"/>\n       <use xlink:href=\"#DejaVuSans-30\" x=\"159.033203\"/>\n      </g>\n     </g>\n    </g>\n    <g id=\"xtick_7\">\n     <g id=\"line2d_7\">\n      <g>\n       <use xlink:href=\"#m9ccce3d90f\" x=\"266.22188\" y=\"244.078125\" style=\"stroke: #000000; stroke-width: 0.8\"/>\n      </g>\n     </g>\n     <g id=\"text_7\">\n      <!-- 1.25 -->\n      <g transform=\"translate(255.089068 258.676562) scale(0.1 -0.1)\">\n       <use xlink:href=\"#DejaVuSans-31\"/>\n       <use xlink:href=\"#DejaVuSans-2e\" x=\"63.623047\"/>\n       <use xlink:href=\"#DejaVuSans-32\" x=\"95.410156\"/>\n       <use xlink:href=\"#DejaVuSans-35\" x=\"159.033203\"/>\n      </g>\n     </g>\n    </g>\n    <g id=\"text_8\">\n     <!-- $x_1$ -->\n     <g transform=\"translate(164.773438 272.354687) scale(0.1 -0.1)\">\n      <defs>\n       <path id=\"DejaVuSans-Oblique-78\" d=\"M 3841 3500 \nL 2234 1784 \nL 3219 0 \nL 2559 0 \nL 1819 1388 \nL 531 0 \nL -166 0 \nL 1556 1844 \nL 641 3500 \nL 1300 3500 \nL 1972 2234 \nL 3144 3500 \nL 3841 3500 \nz\n\" transform=\"scale(0.015625)\"/>\n      </defs>\n      <use xlink:href=\"#DejaVuSans-Oblique-78\" transform=\"translate(0 0.3125)\"/>\n      <use xlink:href=\"#DejaVuSans-31\" transform=\"translate(59.179688 -16.09375) scale(0.7)\"/>\n     </g>\n    </g>\n   </g>\n   <g id=\"matplotlib.axis_2\">\n    <g id=\"ytick_1\">\n     <g id=\"line2d_8\">\n      <defs>\n       <path id=\"m0f4f8d190c\" d=\"M 0 0 \nL -3.5 0 \n\" style=\"stroke: #000000; stroke-width: 0.8\"/>\n      </defs>\n      <g>\n       <use xlink:href=\"#m0f4f8d190c\" x=\"58.523438\" y=\"225.394994\" style=\"stroke: #000000; stroke-width: 0.8\"/>\n      </g>\n     </g>\n     <g id=\"text_9\">\n      <!-- −0.25 -->\n      <g transform=\"translate(20.878125 229.194213) scale(0.1 -0.1)\">\n       <use xlink:href=\"#DejaVuSans-2212\"/>\n       <use xlink:href=\"#DejaVuSans-30\" x=\"83.789062\"/>\n       <use xlink:href=\"#DejaVuSans-2e\" x=\"147.412109\"/>\n       <use xlink:href=\"#DejaVuSans-32\" x=\"179.199219\"/>\n       <use xlink:href=\"#DejaVuSans-35\" x=\"242.822266\"/>\n      </g>\n     </g>\n    </g>\n    <g id=\"ytick_2\">\n     <g id=\"line2d_9\">\n      <g>\n       <use xlink:href=\"#m0f4f8d190c\" x=\"58.523438\" y=\"194.908825\" style=\"stroke: #000000; stroke-width: 0.8\"/>\n      </g>\n     </g>\n     <g id=\"text_10\">\n      <!-- 0.00 -->\n      <g transform=\"translate(29.257812 198.708044) scale(0.1 -0.1)\">\n       <use xlink:href=\"#DejaVuSans-30\"/>\n       <use xlink:href=\"#DejaVuSans-2e\" x=\"63.623047\"/>\n       <use xlink:href=\"#DejaVuSans-30\" x=\"95.410156\"/>\n       <use xlink:href=\"#DejaVuSans-30\" x=\"159.033203\"/>\n      </g>\n     </g>\n    </g>\n    <g id=\"ytick_3\">\n     <g id=\"line2d_10\">\n      <g>\n       <use xlink:href=\"#m0f4f8d190c\" x=\"58.523438\" y=\"164.422656\" style=\"stroke: #000000; stroke-width: 0.8\"/>\n      </g>\n     </g>\n     <g id=\"text_11\">\n      <!-- 0.25 -->\n      <g transform=\"translate(29.257812 168.221875) scale(0.1 -0.1)\">\n       <use xlink:href=\"#DejaVuSans-30\"/>\n       <use xlink:href=\"#DejaVuSans-2e\" x=\"63.623047\"/>\n       <use xlink:href=\"#DejaVuSans-32\" x=\"95.410156\"/>\n       <use xlink:href=\"#DejaVuSans-35\" x=\"159.033203\"/>\n      </g>\n     </g>\n    </g>\n    <g id=\"ytick_4\">\n     <g id=\"line2d_11\">\n      <g>\n       <use xlink:href=\"#m0f4f8d190c\" x=\"58.523438\" y=\"133.936487\" style=\"stroke: #000000; stroke-width: 0.8\"/>\n      </g>\n     </g>\n     <g id=\"text_12\">\n      <!-- 0.50 -->\n      <g transform=\"translate(29.257812 137.735706) scale(0.1 -0.1)\">\n       <use xlink:href=\"#DejaVuSans-30\"/>\n       <use xlink:href=\"#DejaVuSans-2e\" x=\"63.623047\"/>\n       <use xlink:href=\"#DejaVuSans-35\" x=\"95.410156\"/>\n       <use xlink:href=\"#DejaVuSans-30\" x=\"159.033203\"/>\n      </g>\n     </g>\n    </g>\n    <g id=\"ytick_5\">\n     <g id=\"line2d_12\">\n      <g>\n       <use xlink:href=\"#m0f4f8d190c\" x=\"58.523438\" y=\"103.450318\" style=\"stroke: #000000; stroke-width: 0.8\"/>\n      </g>\n     </g>\n     <g id=\"text_13\">\n      <!-- 0.75 -->\n      <g transform=\"translate(29.257812 107.249537) scale(0.1 -0.1)\">\n       <use xlink:href=\"#DejaVuSans-30\"/>\n       <use xlink:href=\"#DejaVuSans-2e\" x=\"63.623047\"/>\n       <use xlink:href=\"#DejaVuSans-37\" x=\"95.410156\"/>\n       <use xlink:href=\"#DejaVuSans-35\" x=\"159.033203\"/>\n      </g>\n     </g>\n    </g>\n    <g id=\"ytick_6\">\n     <g id=\"line2d_13\">\n      <g>\n       <use xlink:href=\"#m0f4f8d190c\" x=\"58.523438\" y=\"72.964149\" style=\"stroke: #000000; stroke-width: 0.8\"/>\n      </g>\n     </g>\n     <g id=\"text_14\">\n      <!-- 1.00 -->\n      <g transform=\"translate(29.257812 76.763368) scale(0.1 -0.1)\">\n       <use xlink:href=\"#DejaVuSans-31\"/>\n       <use xlink:href=\"#DejaVuSans-2e\" x=\"63.623047\"/>\n       <use xlink:href=\"#DejaVuSans-30\" x=\"95.410156\"/>\n       <use xlink:href=\"#DejaVuSans-30\" x=\"159.033203\"/>\n      </g>\n     </g>\n    </g>\n    <g id=\"ytick_7\">\n     <g id=\"line2d_14\">\n      <g>\n       <use xlink:href=\"#m0f4f8d190c\" x=\"58.523438\" y=\"42.47798\" style=\"stroke: #000000; stroke-width: 0.8\"/>\n      </g>\n     </g>\n     <g id=\"text_15\">\n      <!-- 1.25 -->\n      <g transform=\"translate(29.257812 46.277199) scale(0.1 -0.1)\">\n       <use xlink:href=\"#DejaVuSans-31\"/>\n       <use xlink:href=\"#DejaVuSans-2e\" x=\"63.623047\"/>\n       <use xlink:href=\"#DejaVuSans-32\" x=\"95.410156\"/>\n       <use xlink:href=\"#DejaVuSans-35\" x=\"159.033203\"/>\n      </g>\n     </g>\n    </g>\n    <g id=\"text_16\">\n     <!-- $x_2$ -->\n     <g transform=\"translate(14.798437 138.548125) rotate(-90) scale(0.1 -0.1)\">\n      <use xlink:href=\"#DejaVuSans-Oblique-78\" transform=\"translate(0 0.3125)\"/>\n      <use xlink:href=\"#DejaVuSans-32\" transform=\"translate(59.179688 -16.09375) scale(0.7)\"/>\n     </g>\n    </g>\n   </g>\n   <g id=\"patch_3\">\n    <path d=\"M 58.523438 244.078125 \nL 58.523438 22.318125 \n\" style=\"fill: none; stroke: #000000; stroke-width: 0.8; stroke-linejoin: miter; stroke-linecap: square\"/>\n   </g>\n   <g id=\"patch_4\">\n    <path d=\"M 281.723437 244.078125 \nL 281.723437 22.318125 \n\" style=\"fill: none; stroke: #000000; stroke-width: 0.8; stroke-linejoin: miter; stroke-linecap: square\"/>\n   </g>\n   <g id=\"patch_5\">\n    <path d=\"M 58.523438 244.078125 \nL 281.723437 244.078125 \n\" style=\"fill: none; stroke: #000000; stroke-width: 0.8; stroke-linejoin: miter; stroke-linecap: square\"/>\n   </g>\n   <g id=\"patch_6\">\n    <path d=\"M 58.523438 22.318125 \nL 281.723437 22.318125 \n\" style=\"fill: none; stroke: #000000; stroke-width: 0.8; stroke-linejoin: miter; stroke-linecap: square\"/>\n   </g>\n   <g id=\"text_17\">\n    <!-- Dataset samples -->\n    <g transform=\"translate(119.780625 16.318125) scale(0.12 -0.12)\">\n     <defs>\n      <path id=\"DejaVuSans-44\" d=\"M 1259 4147 \nL 1259 519 \nL 2022 519 \nQ 2988 519 3436 956 \nQ 3884 1394 3884 2338 \nQ 3884 3275 3436 3711 \nQ 2988 4147 2022 4147 \nL 1259 4147 \nz\nM 628 4666 \nL 1925 4666 \nQ 3281 4666 3915 4102 \nQ 4550 3538 4550 2338 \nQ 4550 1131 3912 565 \nQ 3275 0 1925 0 \nL 628 0 \nL 628 4666 \nz\n\" transform=\"scale(0.015625)\"/>\n      <path id=\"DejaVuSans-61\" d=\"M 2194 1759 \nQ 1497 1759 1228 1600 \nQ 959 1441 959 1056 \nQ 959 750 1161 570 \nQ 1363 391 1709 391 \nQ 2188 391 2477 730 \nQ 2766 1069 2766 1631 \nL 2766 1759 \nL 2194 1759 \nz\nM 3341 1997 \nL 3341 0 \nL 2766 0 \nL 2766 531 \nQ 2569 213 2275 61 \nQ 1981 -91 1556 -91 \nQ 1019 -91 701 211 \nQ 384 513 384 1019 \nQ 384 1609 779 1909 \nQ 1175 2209 1959 2209 \nL 2766 2209 \nL 2766 2266 \nQ 2766 2663 2505 2880 \nQ 2244 3097 1772 3097 \nQ 1472 3097 1187 3025 \nQ 903 2953 641 2809 \nL 641 3341 \nQ 956 3463 1253 3523 \nQ 1550 3584 1831 3584 \nQ 2591 3584 2966 3190 \nQ 3341 2797 3341 1997 \nz\n\" transform=\"scale(0.015625)\"/>\n      <path id=\"DejaVuSans-74\" d=\"M 1172 4494 \nL 1172 3500 \nL 2356 3500 \nL 2356 3053 \nL 1172 3053 \nL 1172 1153 \nQ 1172 725 1289 603 \nQ 1406 481 1766 481 \nL 2356 481 \nL 2356 0 \nL 1766 0 \nQ 1100 0 847 248 \nQ 594 497 594 1153 \nL 594 3053 \nL 172 3053 \nL 172 3500 \nL 594 3500 \nL 594 4494 \nL 1172 4494 \nz\n\" transform=\"scale(0.015625)\"/>\n      <path id=\"DejaVuSans-73\" d=\"M 2834 3397 \nL 2834 2853 \nQ 2591 2978 2328 3040 \nQ 2066 3103 1784 3103 \nQ 1356 3103 1142 2972 \nQ 928 2841 928 2578 \nQ 928 2378 1081 2264 \nQ 1234 2150 1697 2047 \nL 1894 2003 \nQ 2506 1872 2764 1633 \nQ 3022 1394 3022 966 \nQ 3022 478 2636 193 \nQ 2250 -91 1575 -91 \nQ 1294 -91 989 -36 \nQ 684 19 347 128 \nL 347 722 \nQ 666 556 975 473 \nQ 1284 391 1588 391 \nQ 1994 391 2212 530 \nQ 2431 669 2431 922 \nQ 2431 1156 2273 1281 \nQ 2116 1406 1581 1522 \nL 1381 1569 \nQ 847 1681 609 1914 \nQ 372 2147 372 2553 \nQ 372 3047 722 3315 \nQ 1072 3584 1716 3584 \nQ 2034 3584 2315 3537 \nQ 2597 3491 2834 3397 \nz\n\" transform=\"scale(0.015625)\"/>\n      <path id=\"DejaVuSans-65\" d=\"M 3597 1894 \nL 3597 1613 \nL 953 1613 \nQ 991 1019 1311 708 \nQ 1631 397 2203 397 \nQ 2534 397 2845 478 \nQ 3156 559 3463 722 \nL 3463 178 \nQ 3153 47 2828 -22 \nQ 2503 -91 2169 -91 \nQ 1331 -91 842 396 \nQ 353 884 353 1716 \nQ 353 2575 817 3079 \nQ 1281 3584 2069 3584 \nQ 2775 3584 3186 3129 \nQ 3597 2675 3597 1894 \nz\nM 3022 2063 \nQ 3016 2534 2758 2815 \nQ 2500 3097 2075 3097 \nQ 1594 3097 1305 2825 \nQ 1016 2553 972 2059 \nL 3022 2063 \nz\n\" transform=\"scale(0.015625)\"/>\n      <path id=\"DejaVuSans-20\" transform=\"scale(0.015625)\"/>\n      <path id=\"DejaVuSans-6d\" d=\"M 3328 2828 \nQ 3544 3216 3844 3400 \nQ 4144 3584 4550 3584 \nQ 5097 3584 5394 3201 \nQ 5691 2819 5691 2113 \nL 5691 0 \nL 5113 0 \nL 5113 2094 \nQ 5113 2597 4934 2840 \nQ 4756 3084 4391 3084 \nQ 3944 3084 3684 2787 \nQ 3425 2491 3425 1978 \nL 3425 0 \nL 2847 0 \nL 2847 2094 \nQ 2847 2600 2669 2842 \nQ 2491 3084 2119 3084 \nQ 1678 3084 1418 2786 \nQ 1159 2488 1159 1978 \nL 1159 0 \nL 581 0 \nL 581 3500 \nL 1159 3500 \nL 1159 2956 \nQ 1356 3278 1631 3431 \nQ 1906 3584 2284 3584 \nQ 2666 3584 2933 3390 \nQ 3200 3197 3328 2828 \nz\n\" transform=\"scale(0.015625)\"/>\n      <path id=\"DejaVuSans-70\" d=\"M 1159 525 \nL 1159 -1331 \nL 581 -1331 \nL 581 3500 \nL 1159 3500 \nL 1159 2969 \nQ 1341 3281 1617 3432 \nQ 1894 3584 2278 3584 \nQ 2916 3584 3314 3078 \nQ 3713 2572 3713 1747 \nQ 3713 922 3314 415 \nQ 2916 -91 2278 -91 \nQ 1894 -91 1617 61 \nQ 1341 213 1159 525 \nz\nM 3116 1747 \nQ 3116 2381 2855 2742 \nQ 2594 3103 2138 3103 \nQ 1681 3103 1420 2742 \nQ 1159 2381 1159 1747 \nQ 1159 1113 1420 752 \nQ 1681 391 2138 391 \nQ 2594 391 2855 752 \nQ 3116 1113 3116 1747 \nz\n\" transform=\"scale(0.015625)\"/>\n      <path id=\"DejaVuSans-6c\" d=\"M 603 4863 \nL 1178 4863 \nL 1178 0 \nL 603 0 \nL 603 4863 \nz\n\" transform=\"scale(0.015625)\"/>\n     </defs>\n     <use xlink:href=\"#DejaVuSans-44\"/>\n     <use xlink:href=\"#DejaVuSans-61\" x=\"77.001953\"/>\n     <use xlink:href=\"#DejaVuSans-74\" x=\"138.28125\"/>\n     <use xlink:href=\"#DejaVuSans-61\" x=\"177.490234\"/>\n     <use xlink:href=\"#DejaVuSans-73\" x=\"238.769531\"/>\n     <use xlink:href=\"#DejaVuSans-65\" x=\"290.869141\"/>\n     <use xlink:href=\"#DejaVuSans-74\" x=\"352.392578\"/>\n     <use xlink:href=\"#DejaVuSans-20\" x=\"391.601562\"/>\n     <use xlink:href=\"#DejaVuSans-73\" x=\"423.388672\"/>\n     <use xlink:href=\"#DejaVuSans-61\" x=\"475.488281\"/>\n     <use xlink:href=\"#DejaVuSans-6d\" x=\"536.767578\"/>\n     <use xlink:href=\"#DejaVuSans-70\" x=\"634.179688\"/>\n     <use xlink:href=\"#DejaVuSans-6c\" x=\"697.65625\"/>\n     <use xlink:href=\"#DejaVuSans-65\" x=\"725.439453\"/>\n     <use xlink:href=\"#DejaVuSans-73\" x=\"786.962891\"/>\n    </g>\n   </g>\n   <g id=\"legend_1\">\n    <g id=\"patch_7\">\n     <path d=\"M 206.875 149.37625 \nL 274.723437 149.37625 \nQ 276.723437 149.37625 276.723437 147.37625 \nL 276.723437 119.02 \nQ 276.723437 117.02 274.723437 117.02 \nL 206.875 117.02 \nQ 204.875 117.02 204.875 119.02 \nL 204.875 147.37625 \nQ 204.875 149.37625 206.875 149.37625 \nz\n\" style=\"fill: #ffffff; opacity: 0.8; stroke: #cccccc; stroke-linejoin: miter\"/>\n    </g>\n    <g id=\"PathCollection_3\">\n     <g>\n      <use xlink:href=\"#m0c06e1fba5\" x=\"218.875\" y=\"125.993437\" style=\"fill: #1f77b4; stroke: #333333\"/>\n     </g>\n    </g>\n    <g id=\"text_18\">\n     <!-- Class 0 -->\n     <g transform=\"translate(236.875 128.618437) scale(0.1 -0.1)\">\n      <defs>\n       <path id=\"DejaVuSans-43\" d=\"M 4122 4306 \nL 4122 3641 \nQ 3803 3938 3442 4084 \nQ 3081 4231 2675 4231 \nQ 1875 4231 1450 3742 \nQ 1025 3253 1025 2328 \nQ 1025 1406 1450 917 \nQ 1875 428 2675 428 \nQ 3081 428 3442 575 \nQ 3803 722 4122 1019 \nL 4122 359 \nQ 3791 134 3420 21 \nQ 3050 -91 2638 -91 \nQ 1578 -91 968 557 \nQ 359 1206 359 2328 \nQ 359 3453 968 4101 \nQ 1578 4750 2638 4750 \nQ 3056 4750 3426 4639 \nQ 3797 4528 4122 4306 \nz\n\" transform=\"scale(0.015625)\"/>\n      </defs>\n      <use xlink:href=\"#DejaVuSans-43\"/>\n      <use xlink:href=\"#DejaVuSans-6c\" x=\"69.824219\"/>\n      <use xlink:href=\"#DejaVuSans-61\" x=\"97.607422\"/>\n      <use xlink:href=\"#DejaVuSans-73\" x=\"158.886719\"/>\n      <use xlink:href=\"#DejaVuSans-73\" x=\"210.986328\"/>\n      <use xlink:href=\"#DejaVuSans-20\" x=\"263.085938\"/>\n      <use xlink:href=\"#DejaVuSans-30\" x=\"294.873047\"/>\n     </g>\n    </g>\n    <g id=\"PathCollection_4\">\n     <g>\n      <use xlink:href=\"#m52d6617c87\" x=\"218.875\" y=\"140.671562\" style=\"fill: #ff7f0e; stroke: #333333\"/>\n     </g>\n    </g>\n    <g id=\"text_19\">\n     <!-- Class 1 -->\n     <g transform=\"translate(236.875 143.296562) scale(0.1 -0.1)\">\n      <use xlink:href=\"#DejaVuSans-43\"/>\n      <use xlink:href=\"#DejaVuSans-6c\" x=\"69.824219\"/>\n      <use xlink:href=\"#DejaVuSans-61\" x=\"97.607422\"/>\n      <use xlink:href=\"#DejaVuSans-73\" x=\"158.886719\"/>\n      <use xlink:href=\"#DejaVuSans-73\" x=\"210.986328\"/>\n      <use xlink:href=\"#DejaVuSans-20\" x=\"263.085938\"/>\n      <use xlink:href=\"#DejaVuSans-31\" x=\"294.873047\"/>\n     </g>\n    </g>\n   </g>\n  </g>\n </g>\n <defs>\n  <clipPath id=\"p6dc6c54607\">\n   <rect x=\"58.523438\" y=\"22.318125\" width=\"223.2\" height=\"221.76\"/>\n  </clipPath>\n </defs>\n</svg>\n",
      "text/plain": [
       "<Figure size 400x400 with 1 Axes>"
      ]
     },
     "metadata": {},
     "output_type": "display_data"
    }
   ],
   "source": [
    "visualize_samples(dataset.data, dataset.label)\n",
    "plt.show()"
   ]
  },
  {
   "cell_type": "code",
   "execution_count": 59,
   "metadata": {},
   "outputs": [],
   "source": [
    "data_loader = data.DataLoader(dataset=dataset, batch_size=8, shuffle=True)"
   ]
  },
  {
   "cell_type": "code",
   "execution_count": 60,
   "metadata": {},
   "outputs": [],
   "source": [
    "data_inputs, data_labels = next(iter(data_loader))"
   ]
  },
  {
   "cell_type": "code",
   "execution_count": 61,
   "metadata": {},
   "outputs": [
    {
     "name": "stdout",
     "output_type": "stream",
     "text": [
      "Data inputs torch.Size([8, 2]) \n",
      " tensor([[-0.0604,  0.9935],\n",
      "        [ 0.0559, -0.0720],\n",
      "        [ 1.0119,  1.0165],\n",
      "        [ 0.0050,  0.9005],\n",
      "        [-0.0661,  1.0717],\n",
      "        [ 1.1362,  0.9624],\n",
      "        [ 0.9794,  0.8984],\n",
      "        [ 1.1686,  0.0379]])\n",
      "Data labels torch.Size([8]) \n",
      " tensor([1, 0, 0, 1, 1, 0, 0, 1])\n"
     ]
    }
   ],
   "source": [
    "print(\"Data inputs\", data_inputs.shape, \"\\n\", data_inputs)\n",
    "print(\"Data labels\", data_labels.shape, \"\\n\", data_labels)"
   ]
  },
  {
   "cell_type": "code",
   "execution_count": 62,
   "metadata": {},
   "outputs": [],
   "source": [
    "loss_module = nn.BCEWithLogitsLoss()"
   ]
  },
  {
   "cell_type": "code",
   "execution_count": 63,
   "metadata": {},
   "outputs": [],
   "source": [
    "optimizer = torch.optim.SGD(model.parameters(), lr=0.1)"
   ]
  },
  {
   "cell_type": "code",
   "execution_count": 64,
   "metadata": {},
   "outputs": [],
   "source": [
    "train_dataset = XORDataset(size=1000)\n",
    "train_data_loader = data.DataLoader(train_dataset, batch_size=128, shuffle=True)"
   ]
  },
  {
   "cell_type": "code",
   "execution_count": 65,
   "metadata": {},
   "outputs": [],
   "source": [
    "device = torch.device(\"cuda\") if torch.cuda.is_available() else torch.device(\"cpu\")"
   ]
  },
  {
   "cell_type": "code",
   "execution_count": 66,
   "metadata": {},
   "outputs": [
    {
     "data": {
      "text/plain": [
       "SimpleClassifier(\n",
       "  (linear1): Linear(in_features=2, out_features=4, bias=True)\n",
       "  (act_fn): Tanh()\n",
       "  (linear2): Linear(in_features=4, out_features=1, bias=True)\n",
       ")"
      ]
     },
     "execution_count": 66,
     "metadata": {},
     "output_type": "execute_result"
    }
   ],
   "source": [
    "model.to(device)"
   ]
  },
  {
   "cell_type": "code",
   "execution_count": 67,
   "metadata": {},
   "outputs": [],
   "source": [
    "def train_model(model, optimizer, data_loader, loss_module, num_epochs=100):\n",
    "    model.train()\n",
    "    \n",
    "    for epoch in tqdm(range(num_epochs)):\n",
    "        for data_inputs, data_labels in data_loader:\n",
    "            data_inputs = data_inputs.to(device)\n",
    "            data_labels = data_labels.to(device)\n",
    "            \n",
    "            preds = model(data_inputs)\n",
    "            preds = preds.squeeze(dim=1)\n",
    "            \n",
    "            loss = loss_module(preds, data_labels.float())\n",
    "            \n",
    "            optimizer.zero_grad()\n",
    "            loss.backward()\n",
    "            optimizer.step()"
   ]
  },
  {
   "cell_type": "code",
   "execution_count": 68,
   "metadata": {},
   "outputs": [
    {
     "data": {
      "application/vnd.jupyter.widget-view+json": {
       "model_id": "0b3da86f216448acabd5a4db7033ab2e",
       "version_major": 2,
       "version_minor": 0
      },
      "text/plain": [
       "  0%|          | 0/100 [00:00<?, ?it/s]"
      ]
     },
     "metadata": {},
     "output_type": "display_data"
    }
   ],
   "source": [
    "train_model(model=model, optimizer=optimizer, data_loader=train_data_loader, loss_module=loss_module)"
   ]
  },
  {
   "cell_type": "code",
   "execution_count": 70,
   "metadata": {},
   "outputs": [
    {
     "name": "stdout",
     "output_type": "stream",
     "text": [
      "OrderedDict([('linear1.weight', tensor([[ 2.5368, -2.1475],\n",
      "        [-1.3434, -1.3278],\n",
      "        [-0.0942, -0.4244],\n",
      "        [-1.9207,  2.2933]])), ('linear1.bias', tensor([ 1.0349, -0.0484,  0.6295,  0.9328])), ('linear2.weight', tensor([[-2.9125, -1.9312,  0.8883, -2.7783]])), ('linear2.bias', tensor([0.8246]))])\n"
     ]
    }
   ],
   "source": [
    "state_dict = model.state_dict()\n",
    "print(state_dict)"
   ]
  },
  {
   "cell_type": "code",
   "execution_count": 71,
   "metadata": {},
   "outputs": [],
   "source": [
    "torch.save(state_dict, \"our_model.tar\")"
   ]
  },
  {
   "cell_type": "code",
   "execution_count": 72,
   "metadata": {},
   "outputs": [],
   "source": [
    "state_dict = torch.load(\"our_model.tar\")"
   ]
  },
  {
   "cell_type": "code",
   "execution_count": 73,
   "metadata": {},
   "outputs": [
    {
     "data": {
      "text/plain": [
       "<All keys matched successfully>"
      ]
     },
     "execution_count": 73,
     "metadata": {},
     "output_type": "execute_result"
    }
   ],
   "source": [
    "new_model = SimpleClassifier(num_inputs=2, num_hidden=4, num_outputs=1)\n",
    "new_model.load_state_dict(state_dict)"
   ]
  },
  {
   "cell_type": "code",
   "execution_count": 74,
   "metadata": {},
   "outputs": [],
   "source": [
    "test_dataset = XORDataset(size= 500)\n",
    "test_data_loader = data.DataLoader(test_dataset, batch_size=128, shuffle=False, drop_last=False)"
   ]
  },
  {
   "cell_type": "code",
   "execution_count": 75,
   "metadata": {},
   "outputs": [],
   "source": [
    "def eval_model(model, data_loader):\n",
    "    model.eval()\n",
    "    true_preds, num_preds = 0.0, 0.0\n",
    "    \n",
    "    with torch.no_grad():\n",
    "        for data_inputs, data_labels in data_loader:\n",
    "            data_inputs, data_labels = data_inputs.to(device), data_labels.to(device)\n",
    "            preds = model(data_inputs)\n",
    "            preds = preds.squeeze(dim=1)\n",
    "            preds = torch.sigmoid(preds)\n",
    "            pred_labels = (preds >= 0.5).long()\n",
    "            \n",
    "            true_preds += (pred_labels == data_labels).sum()\n",
    "            num_preds += data_labels.shape[0]\n",
    "            \n",
    "    acc = true_preds/num_preds\n",
    "    print(f\"Accuracy of the model: {100.0*acc:4.2f}%\")"
   ]
  },
  {
   "cell_type": "code",
   "execution_count": 76,
   "metadata": {},
   "outputs": [
    {
     "name": "stdout",
     "output_type": "stream",
     "text": [
      "Accuracy of the model: 100.00%\n"
     ]
    }
   ],
   "source": [
    "eval_model(model, test_data_loader)"
   ]
  },
  {
   "cell_type": "code",
   "execution_count": null,
   "metadata": {},
   "outputs": [],
   "source": []
  }
 ],
 "metadata": {
  "kernelspec": {
   "display_name": "sandbox",
   "language": "python",
   "name": "python3"
  },
  "language_info": {
   "codemirror_mode": {
    "name": "ipython",
    "version": 3
   },
   "file_extension": ".py",
   "mimetype": "text/x-python",
   "name": "python",
   "nbconvert_exporter": "python",
   "pygments_lexer": "ipython3",
   "version": "3.8.10"
  },
  "orig_nbformat": 4
 },
 "nbformat": 4,
 "nbformat_minor": 2
}
